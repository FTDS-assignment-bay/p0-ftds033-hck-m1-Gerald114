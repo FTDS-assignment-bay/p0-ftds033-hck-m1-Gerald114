{
 "cells": [
  {
   "cell_type": "markdown",
   "id": "0908747a",
   "metadata": {},
   "source": [
    "---\n",
    "---\n",
    "\n",
    "# Milestone 1\n",
    "\n",
    "Nama    = Gerald Imanuel Sinay\n",
    "\n",
    "Batch   = HCK 033\n",
    "\n",
    "`Project ini bertujuan untuk melakukan data cleaning lalu melakukan analisa terhadap masalah yang ada serta melakukan visualisasi terhadap data dan analisis tersebut, agar hasil analisis tersebut dapat digunakan untuk menyusun strategi selanjutnya`\n",
    "---\n",
    "---"
   ]
  },
  {
   "cell_type": "markdown",
   "id": "e5e8c76c",
   "metadata": {},
   "source": [
    "### Problem Statement\n",
    "Supermarket menghadapi tantangan untuk meningkatkan **jumlah pelanggan dan profitabilitas penjualan** di berbagai cabang. \n",
    "Manajemen kesulitan mengidentifikasi faktor-faktor utama yang memengaruhi **pendapatan, margin keuntungan, dan kepuasan pelanggan**.\n",
    "\n",
    "### SMART\n",
    "- Specific      = Meningkatkan pendapatan total dan rating pelanggan melalui optimasi produk, promosi, dan pelayanan di tiap cabang.\n",
    "- Measureable   = KPI: perubahan total sales, rata-rata rating per cabang, gross margin. Target: +10% revenue & rating ≥(8.0).\n",
    "- Achieveable   = Dilakukan dengan promosi produk unggulan, training staf, dan pengelolaan jam sibuk (peak hours). \n",
    "- Relevant      = Meningkatkan pendapatan dan rating mendukung pertumbuhan jangka panjang supermarket.\n",
    "- Time-bound    = Target dicapai dalam 2 kuartal (6 bulan). Evaluasi bulanan untuk memantau progres."
   ]
  },
  {
   "cell_type": "markdown",
   "id": "d04ef119",
   "metadata": {},
   "source": [
    "#### Pada analisis terdapat 6 pertanyaan utama\n",
    "1. Berapa total sales per branch?\n",
    "2. Berapa rata-rata rating tiap product line nya?\n",
    "3. Bagaimana hubungan antara total transaksi dengan ratingnya?\n",
    "4. Bagaimana metode pembayaran per tipe pelanggan?\n",
    "5. Bagaimana rata-rata dari total, rating, serta gross income nya?\n",
    "6. Apakah rata-rata total berbeda signifikan antara dua cabang (mis. A vs B)."
   ]
  },
  {
   "cell_type": "markdown",
   "id": "4106a327",
   "metadata": {},
   "source": [
    "#### Load Data"
   ]
  },
  {
   "cell_type": "code",
   "execution_count": null,
   "id": "d3779e7f",
   "metadata": {},
   "outputs": [
    {
     "name": "stdout",
     "output_type": "stream",
     "text": [
      "Jumlah baris & kolom: (1000, 17)\n"
     ]
    },
    {
     "data": {
      "text/html": [
       "<div>\n",
       "<style scoped>\n",
       "    .dataframe tbody tr th:only-of-type {\n",
       "        vertical-align: middle;\n",
       "    }\n",
       "\n",
       "    .dataframe tbody tr th {\n",
       "        vertical-align: top;\n",
       "    }\n",
       "\n",
       "    .dataframe thead th {\n",
       "        text-align: right;\n",
       "    }\n",
       "</style>\n",
       "<table border=\"1\" class=\"dataframe\">\n",
       "  <thead>\n",
       "    <tr style=\"text-align: right;\">\n",
       "      <th></th>\n",
       "      <th>Invoice ID</th>\n",
       "      <th>Branch</th>\n",
       "      <th>City</th>\n",
       "      <th>Customer type</th>\n",
       "      <th>Gender</th>\n",
       "      <th>Product line</th>\n",
       "      <th>Unit price</th>\n",
       "      <th>Quantity</th>\n",
       "      <th>Tax 5%</th>\n",
       "      <th>Total</th>\n",
       "      <th>Date</th>\n",
       "      <th>Time</th>\n",
       "      <th>Payment</th>\n",
       "      <th>cogs</th>\n",
       "      <th>gross margin percentage</th>\n",
       "      <th>gross income</th>\n",
       "      <th>Rating</th>\n",
       "    </tr>\n",
       "  </thead>\n",
       "  <tbody>\n",
       "    <tr>\n",
       "      <th>0</th>\n",
       "      <td>750-67-8428</td>\n",
       "      <td>A</td>\n",
       "      <td>Yangon</td>\n",
       "      <td>Member</td>\n",
       "      <td>Female</td>\n",
       "      <td>Health and beauty</td>\n",
       "      <td>74.69</td>\n",
       "      <td>7</td>\n",
       "      <td>26.1415</td>\n",
       "      <td>548.9715</td>\n",
       "      <td>1/5/2019</td>\n",
       "      <td>13:08</td>\n",
       "      <td>Ewallet</td>\n",
       "      <td>522.83</td>\n",
       "      <td>4.761905</td>\n",
       "      <td>26.1415</td>\n",
       "      <td>9.1</td>\n",
       "    </tr>\n",
       "    <tr>\n",
       "      <th>1</th>\n",
       "      <td>226-31-3081</td>\n",
       "      <td>C</td>\n",
       "      <td>Naypyitaw</td>\n",
       "      <td>Normal</td>\n",
       "      <td>Female</td>\n",
       "      <td>Electronic accessories</td>\n",
       "      <td>15.28</td>\n",
       "      <td>5</td>\n",
       "      <td>3.8200</td>\n",
       "      <td>80.2200</td>\n",
       "      <td>3/8/2019</td>\n",
       "      <td>10:29</td>\n",
       "      <td>Cash</td>\n",
       "      <td>76.40</td>\n",
       "      <td>4.761905</td>\n",
       "      <td>3.8200</td>\n",
       "      <td>9.6</td>\n",
       "    </tr>\n",
       "    <tr>\n",
       "      <th>2</th>\n",
       "      <td>631-41-3108</td>\n",
       "      <td>A</td>\n",
       "      <td>Yangon</td>\n",
       "      <td>Normal</td>\n",
       "      <td>Male</td>\n",
       "      <td>Home and lifestyle</td>\n",
       "      <td>46.33</td>\n",
       "      <td>7</td>\n",
       "      <td>16.2155</td>\n",
       "      <td>340.5255</td>\n",
       "      <td>3/3/2019</td>\n",
       "      <td>13:23</td>\n",
       "      <td>Credit card</td>\n",
       "      <td>324.31</td>\n",
       "      <td>4.761905</td>\n",
       "      <td>16.2155</td>\n",
       "      <td>7.4</td>\n",
       "    </tr>\n",
       "    <tr>\n",
       "      <th>3</th>\n",
       "      <td>123-19-1176</td>\n",
       "      <td>A</td>\n",
       "      <td>Yangon</td>\n",
       "      <td>Member</td>\n",
       "      <td>Male</td>\n",
       "      <td>Health and beauty</td>\n",
       "      <td>58.22</td>\n",
       "      <td>8</td>\n",
       "      <td>23.2880</td>\n",
       "      <td>489.0480</td>\n",
       "      <td>1/27/2019</td>\n",
       "      <td>20:33</td>\n",
       "      <td>Ewallet</td>\n",
       "      <td>465.76</td>\n",
       "      <td>4.761905</td>\n",
       "      <td>23.2880</td>\n",
       "      <td>8.4</td>\n",
       "    </tr>\n",
       "    <tr>\n",
       "      <th>4</th>\n",
       "      <td>373-73-7910</td>\n",
       "      <td>A</td>\n",
       "      <td>Yangon</td>\n",
       "      <td>Normal</td>\n",
       "      <td>Male</td>\n",
       "      <td>Sports and travel</td>\n",
       "      <td>86.31</td>\n",
       "      <td>7</td>\n",
       "      <td>30.2085</td>\n",
       "      <td>634.3785</td>\n",
       "      <td>2/8/2019</td>\n",
       "      <td>10:37</td>\n",
       "      <td>Ewallet</td>\n",
       "      <td>604.17</td>\n",
       "      <td>4.761905</td>\n",
       "      <td>30.2085</td>\n",
       "      <td>5.3</td>\n",
       "    </tr>\n",
       "  </tbody>\n",
       "</table>\n",
       "</div>"
      ],
      "text/plain": [
       "    Invoice ID Branch       City Customer type  Gender  \\\n",
       "0  750-67-8428      A     Yangon        Member  Female   \n",
       "1  226-31-3081      C  Naypyitaw        Normal  Female   \n",
       "2  631-41-3108      A     Yangon        Normal    Male   \n",
       "3  123-19-1176      A     Yangon        Member    Male   \n",
       "4  373-73-7910      A     Yangon        Normal    Male   \n",
       "\n",
       "             Product line  Unit price  Quantity   Tax 5%     Total       Date  \\\n",
       "0       Health and beauty       74.69         7  26.1415  548.9715   1/5/2019   \n",
       "1  Electronic accessories       15.28         5   3.8200   80.2200   3/8/2019   \n",
       "2      Home and lifestyle       46.33         7  16.2155  340.5255   3/3/2019   \n",
       "3       Health and beauty       58.22         8  23.2880  489.0480  1/27/2019   \n",
       "4       Sports and travel       86.31         7  30.2085  634.3785   2/8/2019   \n",
       "\n",
       "    Time      Payment    cogs  gross margin percentage  gross income  Rating  \n",
       "0  13:08      Ewallet  522.83                 4.761905       26.1415     9.1  \n",
       "1  10:29         Cash   76.40                 4.761905        3.8200     9.6  \n",
       "2  13:23  Credit card  324.31                 4.761905       16.2155     7.4  \n",
       "3  20:33      Ewallet  465.76                 4.761905       23.2880     8.4  \n",
       "4  10:37      Ewallet  604.17                 4.761905       30.2085     5.3  "
      ]
     },
     "execution_count": 32,
     "metadata": {},
     "output_type": "execute_result"
    }
   ],
   "source": [
    "import pandas as pd\n",
    "import numpy as np\n",
    "import matplotlib.pyplot as plt\n",
    "import seaborn as sns\n",
    "from scipy import stats\n",
    "\n",
    "# Agar grafik lebih rapi\n",
    "plt.style.use('seaborn-v0_8')\n",
    "sns.set_palette(\"muted\")\n",
    "\n",
    "# Ganti sesuai nama file asli dari Kaggle\n",
    "file_path = \"P0M1_Gerald_dataset.csv\"\n",
    "\n",
    "df = pd.read_csv(file_path)\n",
    "print(\"Jumlah baris & kolom:\", df.shape)\n",
    "df.head()"
   ]
  },
  {
   "cell_type": "code",
   "execution_count": 5,
   "id": "b5d317f3",
   "metadata": {},
   "outputs": [
    {
     "name": "stdout",
     "output_type": "stream",
     "text": [
      "<class 'pandas.core.frame.DataFrame'>\n",
      "RangeIndex: 1000 entries, 0 to 999\n",
      "Data columns (total 17 columns):\n",
      " #   Column                   Non-Null Count  Dtype  \n",
      "---  ------                   --------------  -----  \n",
      " 0   Invoice ID               1000 non-null   object \n",
      " 1   Branch                   1000 non-null   object \n",
      " 2   City                     1000 non-null   object \n",
      " 3   Customer type            1000 non-null   object \n",
      " 4   Gender                   1000 non-null   object \n",
      " 5   Product line             1000 non-null   object \n",
      " 6   Unit price               1000 non-null   float64\n",
      " 7   Quantity                 1000 non-null   int64  \n",
      " 8   Tax 5%                   1000 non-null   float64\n",
      " 9   Total                    1000 non-null   float64\n",
      " 10  Date                     1000 non-null   object \n",
      " 11  Time                     1000 non-null   object \n",
      " 12  Payment                  1000 non-null   object \n",
      " 13  cogs                     1000 non-null   float64\n",
      " 14  gross margin percentage  1000 non-null   float64\n",
      " 15  gross income             1000 non-null   float64\n",
      " 16  Rating                   1000 non-null   float64\n",
      "dtypes: float64(7), int64(1), object(9)\n",
      "memory usage: 132.9+ KB\n"
     ]
    }
   ],
   "source": [
    "df.info()"
   ]
  },
  {
   "cell_type": "code",
   "execution_count": 4,
   "id": "b393d363",
   "metadata": {},
   "outputs": [
    {
     "data": {
      "text/html": [
       "<div>\n",
       "<style scoped>\n",
       "    .dataframe tbody tr th:only-of-type {\n",
       "        vertical-align: middle;\n",
       "    }\n",
       "\n",
       "    .dataframe tbody tr th {\n",
       "        vertical-align: top;\n",
       "    }\n",
       "\n",
       "    .dataframe thead th {\n",
       "        text-align: right;\n",
       "    }\n",
       "</style>\n",
       "<table border=\"1\" class=\"dataframe\">\n",
       "  <thead>\n",
       "    <tr style=\"text-align: right;\">\n",
       "      <th></th>\n",
       "      <th>Unit price</th>\n",
       "      <th>Quantity</th>\n",
       "      <th>Tax 5%</th>\n",
       "      <th>Total</th>\n",
       "      <th>cogs</th>\n",
       "      <th>gross margin percentage</th>\n",
       "      <th>gross income</th>\n",
       "      <th>Rating</th>\n",
       "    </tr>\n",
       "  </thead>\n",
       "  <tbody>\n",
       "    <tr>\n",
       "      <th>count</th>\n",
       "      <td>1000.000000</td>\n",
       "      <td>1000.000000</td>\n",
       "      <td>1000.000000</td>\n",
       "      <td>1000.000000</td>\n",
       "      <td>1000.00000</td>\n",
       "      <td>1.000000e+03</td>\n",
       "      <td>1000.000000</td>\n",
       "      <td>1000.00000</td>\n",
       "    </tr>\n",
       "    <tr>\n",
       "      <th>mean</th>\n",
       "      <td>55.672130</td>\n",
       "      <td>5.510000</td>\n",
       "      <td>15.379369</td>\n",
       "      <td>322.966749</td>\n",
       "      <td>307.58738</td>\n",
       "      <td>4.761905e+00</td>\n",
       "      <td>15.379369</td>\n",
       "      <td>6.97270</td>\n",
       "    </tr>\n",
       "    <tr>\n",
       "      <th>std</th>\n",
       "      <td>26.494628</td>\n",
       "      <td>2.923431</td>\n",
       "      <td>11.708825</td>\n",
       "      <td>245.885335</td>\n",
       "      <td>234.17651</td>\n",
       "      <td>6.131498e-14</td>\n",
       "      <td>11.708825</td>\n",
       "      <td>1.71858</td>\n",
       "    </tr>\n",
       "    <tr>\n",
       "      <th>min</th>\n",
       "      <td>10.080000</td>\n",
       "      <td>1.000000</td>\n",
       "      <td>0.508500</td>\n",
       "      <td>10.678500</td>\n",
       "      <td>10.17000</td>\n",
       "      <td>4.761905e+00</td>\n",
       "      <td>0.508500</td>\n",
       "      <td>4.00000</td>\n",
       "    </tr>\n",
       "    <tr>\n",
       "      <th>25%</th>\n",
       "      <td>32.875000</td>\n",
       "      <td>3.000000</td>\n",
       "      <td>5.924875</td>\n",
       "      <td>124.422375</td>\n",
       "      <td>118.49750</td>\n",
       "      <td>4.761905e+00</td>\n",
       "      <td>5.924875</td>\n",
       "      <td>5.50000</td>\n",
       "    </tr>\n",
       "    <tr>\n",
       "      <th>50%</th>\n",
       "      <td>55.230000</td>\n",
       "      <td>5.000000</td>\n",
       "      <td>12.088000</td>\n",
       "      <td>253.848000</td>\n",
       "      <td>241.76000</td>\n",
       "      <td>4.761905e+00</td>\n",
       "      <td>12.088000</td>\n",
       "      <td>7.00000</td>\n",
       "    </tr>\n",
       "    <tr>\n",
       "      <th>75%</th>\n",
       "      <td>77.935000</td>\n",
       "      <td>8.000000</td>\n",
       "      <td>22.445250</td>\n",
       "      <td>471.350250</td>\n",
       "      <td>448.90500</td>\n",
       "      <td>4.761905e+00</td>\n",
       "      <td>22.445250</td>\n",
       "      <td>8.50000</td>\n",
       "    </tr>\n",
       "    <tr>\n",
       "      <th>max</th>\n",
       "      <td>99.960000</td>\n",
       "      <td>10.000000</td>\n",
       "      <td>49.650000</td>\n",
       "      <td>1042.650000</td>\n",
       "      <td>993.00000</td>\n",
       "      <td>4.761905e+00</td>\n",
       "      <td>49.650000</td>\n",
       "      <td>10.00000</td>\n",
       "    </tr>\n",
       "  </tbody>\n",
       "</table>\n",
       "</div>"
      ],
      "text/plain": [
       "        Unit price     Quantity       Tax 5%        Total        cogs  \\\n",
       "count  1000.000000  1000.000000  1000.000000  1000.000000  1000.00000   \n",
       "mean     55.672130     5.510000    15.379369   322.966749   307.58738   \n",
       "std      26.494628     2.923431    11.708825   245.885335   234.17651   \n",
       "min      10.080000     1.000000     0.508500    10.678500    10.17000   \n",
       "25%      32.875000     3.000000     5.924875   124.422375   118.49750   \n",
       "50%      55.230000     5.000000    12.088000   253.848000   241.76000   \n",
       "75%      77.935000     8.000000    22.445250   471.350250   448.90500   \n",
       "max      99.960000    10.000000    49.650000  1042.650000   993.00000   \n",
       "\n",
       "       gross margin percentage  gross income      Rating  \n",
       "count             1.000000e+03   1000.000000  1000.00000  \n",
       "mean              4.761905e+00     15.379369     6.97270  \n",
       "std               6.131498e-14     11.708825     1.71858  \n",
       "min               4.761905e+00      0.508500     4.00000  \n",
       "25%               4.761905e+00      5.924875     5.50000  \n",
       "50%               4.761905e+00     12.088000     7.00000  \n",
       "75%               4.761905e+00     22.445250     8.50000  \n",
       "max               4.761905e+00     49.650000    10.00000  "
      ]
     },
     "execution_count": 4,
     "metadata": {},
     "output_type": "execute_result"
    }
   ],
   "source": [
    "df.describe()"
   ]
  },
  {
   "cell_type": "markdown",
   "id": "c4090c41",
   "metadata": {},
   "source": [
    "### Kesimpulan\n",
    "1. Tidak ditemukan nilai null/missing pada awal data.\n",
    "2. Ada beberapa data set yang harus diubah tipe data nya, contohnya tanggal"
   ]
  },
  {
   "cell_type": "markdown",
   "id": "add10cf2",
   "metadata": {},
   "source": [
    "#### Data Cleaning"
   ]
  },
  {
   "cell_type": "markdown",
   "id": "aee232ac",
   "metadata": {},
   "source": [
    "### Apa saja yang kita lakukan diproses data cleaning?\n",
    "1. Kita lakukan standarisasi untuk nama-nama kolomnya\n",
    "2. Hapus data yang memiliki nilai duplikat\n",
    "3. Cek dan atasi missing values\n",
    "4. Konversi kolom-kolom numerik yang tipe data nya belum sesuai\n",
    "5. Konversi tipe data tanggal dari object ke date\n",
    "6. Validasi harga dan kuantitasnya\n",
    "7. Buang outlier dan save hasil cleaning ke csv"
   ]
  },
  {
   "cell_type": "code",
   "execution_count": 6,
   "id": "9c840f6d",
   "metadata": {},
   "outputs": [],
   "source": [
    "# Untuk standarisasi nama kolom nya\n",
    "df.columns = [c.strip().lower().replace(' ', '_') for c in df.columns]"
   ]
  },
  {
   "cell_type": "code",
   "execution_count": 7,
   "id": "a9126202",
   "metadata": {},
   "outputs": [],
   "source": [
    "# Untuk menghapus data yang duplikat\n",
    "df = df.drop_duplicates()"
   ]
  },
  {
   "cell_type": "code",
   "execution_count": 8,
   "id": "c47d1df2",
   "metadata": {},
   "outputs": [],
   "source": [
    "# Untuk menangani missing values\n",
    "for col in df.columns:\n",
    "    if df[col].dtype == 'object':\n",
    "        df[col] = df[col].fillna('Unknown')\n",
    "    else:\n",
    "        df[col] = df[col].fillna(df[col].median())"
   ]
  },
  {
   "cell_type": "code",
   "execution_count": 9,
   "id": "045c002e",
   "metadata": {},
   "outputs": [],
   "source": [
    "# Untuk menstandarisasi kolom kategorinya\n",
    "text_cols = ['branch', 'city', 'customer_type', 'gender', 'product_line', 'payment']\n",
    "for col in text_cols:\n",
    "    if col in df.columns:\n",
    "        df[col] = df[col].astype(str).str.strip().str.title()"
   ]
  },
  {
   "cell_type": "code",
   "execution_count": 36,
   "id": "c6f27774",
   "metadata": {},
   "outputs": [],
   "source": [
    "# Konversi kolom numerik yang salah tipe\n",
    "num_cols = ['unit_price', 'quantity', 'tax_5%', 'total', \n",
    "            'cogs', 'gross_margin_percentage', 'gross_income', 'rating']\n",
    "\n",
    "for col in num_cols:\n",
    "    if col in df.columns:\n",
    "        df[col] = pd.to_numeric(df[col], errors='coerce')\n"
   ]
  },
  {
   "cell_type": "code",
   "execution_count": 17,
   "id": "4be4ef06",
   "metadata": {},
   "outputs": [],
   "source": [
    "# Ubah tipe data untuk tanggal nya dari object ke date\n",
    "df['date'] = pd.to_datetime(df['date'], errors='coerce')\n",
    "df['day_of_week'] = df['date'].dt.day_name()\n",
    "try:\n",
    "    df['time'] = pd.to_datetime(df['time'], format='%H:%M:%S').dt.time\n",
    "except:\n",
    "    df['time'] = pd.to_datetime(df['time'], errors='coerce').dt.time\n",
    "\n",
    "df['hour'] = df['time'].apply(lambda x: x.hour if pd.notna(x) else np.nan)"
   ]
  },
  {
   "cell_type": "code",
   "execution_count": 18,
   "id": "cc9ede82",
   "metadata": {},
   "outputs": [],
   "source": [
    "# Untuk validasi harga dan kuantitasnya\n",
    "df = df[(df['unit_price'] > 0) & (df['quantity'] > 0)]\n",
    "\n",
    "# Hitung ulang total & margin\n",
    "df['expected_total'] = df['unit_price'] * df['quantity'] * 1.05  # asumsi 5% tax\n",
    "if 'total' not in df.columns:\n",
    "    df['total'] = df['expected_total'].round(2)\n",
    "\n",
    "if 'gross_income' not in df.columns:\n",
    "    df['gross_income'] = df['total'] * 0.05  # asumsi margin 5%\n",
    "\n",
    "df['gross_margin_percentage'] = (df['gross_income'] / df['total']) * 100"
   ]
  },
  {
   "cell_type": "code",
   "execution_count": 19,
   "id": "ac96cf14",
   "metadata": {},
   "outputs": [],
   "source": [
    "# Buang Outlier\n",
    "upper = df['total'].quantile(0.999)\n",
    "df = df[(df['total'] > 0) & (df['total'] <= upper)]"
   ]
  },
  {
   "cell_type": "code",
   "execution_count": 20,
   "id": "88938371",
   "metadata": {},
   "outputs": [
    {
     "name": "stdout",
     "output_type": "stream",
     "text": [
      "<class 'pandas.core.frame.DataFrame'>\n",
      "Index: 998 entries, 0 to 999\n",
      "Data columns (total 20 columns):\n",
      " #   Column                   Non-Null Count  Dtype         \n",
      "---  ------                   --------------  -----         \n",
      " 0   invoice_id               998 non-null    object        \n",
      " 1   branch                   998 non-null    object        \n",
      " 2   city                     998 non-null    object        \n",
      " 3   customer_type            998 non-null    object        \n",
      " 4   gender                   998 non-null    object        \n",
      " 5   product_line             998 non-null    object        \n",
      " 6   unit_price               998 non-null    float64       \n",
      " 7   quantity                 998 non-null    int64         \n",
      " 8   tax_5%                   998 non-null    float64       \n",
      " 9   total                    998 non-null    float64       \n",
      " 10  date                     998 non-null    datetime64[ns]\n",
      " 11  time                     998 non-null    object        \n",
      " 12  payment                  998 non-null    object        \n",
      " 13  cogs                     998 non-null    float64       \n",
      " 14  gross_margin_percentage  998 non-null    float64       \n",
      " 15  gross_income             998 non-null    float64       \n",
      " 16  rating                   998 non-null    float64       \n",
      " 17  day_of_week              998 non-null    object        \n",
      " 18  hour                     998 non-null    int64         \n",
      " 19  expected_total           998 non-null    float64       \n",
      "dtypes: datetime64[ns](1), float64(8), int64(2), object(9)\n",
      "memory usage: 163.7+ KB\n"
     ]
    }
   ],
   "source": [
    "df.info()"
   ]
  },
  {
   "cell_type": "code",
   "execution_count": 35,
   "id": "28df7287",
   "metadata": {},
   "outputs": [
    {
     "name": "stdout",
     "output_type": "stream",
     "text": [
      "Data cleaning selesai. File disimpan sebagai 'P0M1_Gerald_dataset_cleaned.csv'.\n",
      "Jumlah baris setelah cleaning: 1000\n"
     ]
    }
   ],
   "source": [
    "# Simpan hasil data cleaning ke file csv\n",
    "df.to_csv(\"P0M1_Gerald_dataset_cleaned.csv\", index=False)\n",
    "print(\"Data cleaning selesai. File disimpan sebagai 'P0M1_Gerald_dataset_cleaned.csv'.\")\n",
    "print(\"Jumlah baris setelah cleaning:\", df.shape[0])"
   ]
  },
  {
   "cell_type": "markdown",
   "id": "64c62933",
   "metadata": {},
   "source": [
    "# Analisis"
   ]
  },
  {
   "cell_type": "code",
   "execution_count": null,
   "id": "2d78da43",
   "metadata": {},
   "outputs": [
    {
     "data": {
      "text/html": [
       "<div>\n",
       "<style scoped>\n",
       "    .dataframe tbody tr th:only-of-type {\n",
       "        vertical-align: middle;\n",
       "    }\n",
       "\n",
       "    .dataframe tbody tr th {\n",
       "        vertical-align: top;\n",
       "    }\n",
       "\n",
       "    .dataframe thead th {\n",
       "        text-align: right;\n",
       "    }\n",
       "</style>\n",
       "<table border=\"1\" class=\"dataframe\">\n",
       "  <thead>\n",
       "    <tr style=\"text-align: right;\">\n",
       "      <th></th>\n",
       "      <th>count</th>\n",
       "      <th>mean</th>\n",
       "      <th>min</th>\n",
       "      <th>25%</th>\n",
       "      <th>50%</th>\n",
       "      <th>75%</th>\n",
       "      <th>max</th>\n",
       "      <th>std</th>\n",
       "    </tr>\n",
       "  </thead>\n",
       "  <tbody>\n",
       "    <tr>\n",
       "      <th>unit_price</th>\n",
       "      <td>998.0</td>\n",
       "      <td>55.58502</td>\n",
       "      <td>10.08</td>\n",
       "      <td>32.825</td>\n",
       "      <td>55.055</td>\n",
       "      <td>77.71</td>\n",
       "      <td>99.96</td>\n",
       "      <td>26.449491</td>\n",
       "    </tr>\n",
       "    <tr>\n",
       "      <th>quantity</th>\n",
       "      <td>998.0</td>\n",
       "      <td>5.501002</td>\n",
       "      <td>1.0</td>\n",
       "      <td>3.0</td>\n",
       "      <td>5.0</td>\n",
       "      <td>8.0</td>\n",
       "      <td>10.0</td>\n",
       "      <td>2.919429</td>\n",
       "    </tr>\n",
       "    <tr>\n",
       "      <th>tax_5%</th>\n",
       "      <td>998.0</td>\n",
       "      <td>15.310851</td>\n",
       "      <td>0.5085</td>\n",
       "      <td>5.864625</td>\n",
       "      <td>12.076</td>\n",
       "      <td>22.428</td>\n",
       "      <td>49.26</td>\n",
       "      <td>11.619891</td>\n",
       "    </tr>\n",
       "    <tr>\n",
       "      <th>total</th>\n",
       "      <td>998.0</td>\n",
       "      <td>321.527865</td>\n",
       "      <td>10.6785</td>\n",
       "      <td>123.157125</td>\n",
       "      <td>253.596</td>\n",
       "      <td>470.988</td>\n",
       "      <td>1034.46</td>\n",
       "      <td>244.017711</td>\n",
       "    </tr>\n",
       "    <tr>\n",
       "      <th>date</th>\n",
       "      <td>998</td>\n",
       "      <td>2019-02-14 00:12:59.158316544</td>\n",
       "      <td>2019-01-01 00:00:00</td>\n",
       "      <td>2019-01-24 00:00:00</td>\n",
       "      <td>2019-02-13 00:00:00</td>\n",
       "      <td>2019-03-08 00:00:00</td>\n",
       "      <td>2019-03-30 00:00:00</td>\n",
       "      <td>NaN</td>\n",
       "    </tr>\n",
       "    <tr>\n",
       "      <th>cogs</th>\n",
       "      <td>998.0</td>\n",
       "      <td>306.217014</td>\n",
       "      <td>10.17</td>\n",
       "      <td>117.2925</td>\n",
       "      <td>241.52</td>\n",
       "      <td>448.56</td>\n",
       "      <td>985.2</td>\n",
       "      <td>232.39782</td>\n",
       "    </tr>\n",
       "    <tr>\n",
       "      <th>gross_margin_percentage</th>\n",
       "      <td>998.0</td>\n",
       "      <td>4.761905</td>\n",
       "      <td>4.761905</td>\n",
       "      <td>4.761905</td>\n",
       "      <td>4.761905</td>\n",
       "      <td>4.761905</td>\n",
       "      <td>4.761905</td>\n",
       "      <td>0.0</td>\n",
       "    </tr>\n",
       "    <tr>\n",
       "      <th>gross_income</th>\n",
       "      <td>998.0</td>\n",
       "      <td>15.310851</td>\n",
       "      <td>0.5085</td>\n",
       "      <td>5.864625</td>\n",
       "      <td>12.076</td>\n",
       "      <td>22.428</td>\n",
       "      <td>49.26</td>\n",
       "      <td>11.619891</td>\n",
       "    </tr>\n",
       "    <tr>\n",
       "      <th>rating</th>\n",
       "      <td>998.0</td>\n",
       "      <td>6.971343</td>\n",
       "      <td>4.0</td>\n",
       "      <td>5.5</td>\n",
       "      <td>7.0</td>\n",
       "      <td>8.5</td>\n",
       "      <td>10.0</td>\n",
       "      <td>1.719392</td>\n",
       "    </tr>\n",
       "    <tr>\n",
       "      <th>hour</th>\n",
       "      <td>998.0</td>\n",
       "      <td>14.90982</td>\n",
       "      <td>10.0</td>\n",
       "      <td>12.0</td>\n",
       "      <td>15.0</td>\n",
       "      <td>18.0</td>\n",
       "      <td>20.0</td>\n",
       "      <td>3.189735</td>\n",
       "    </tr>\n",
       "    <tr>\n",
       "      <th>expected_total</th>\n",
       "      <td>998.0</td>\n",
       "      <td>321.527865</td>\n",
       "      <td>10.6785</td>\n",
       "      <td>123.157125</td>\n",
       "      <td>253.596</td>\n",
       "      <td>470.988</td>\n",
       "      <td>1034.46</td>\n",
       "      <td>244.017711</td>\n",
       "    </tr>\n",
       "  </tbody>\n",
       "</table>\n",
       "</div>"
      ],
      "text/plain": [
       "                         count                           mean  \\\n",
       "unit_price               998.0                       55.58502   \n",
       "quantity                 998.0                       5.501002   \n",
       "tax_5%                   998.0                      15.310851   \n",
       "total                    998.0                     321.527865   \n",
       "date                       998  2019-02-14 00:12:59.158316544   \n",
       "cogs                     998.0                     306.217014   \n",
       "gross_margin_percentage  998.0                       4.761905   \n",
       "gross_income             998.0                      15.310851   \n",
       "rating                   998.0                       6.971343   \n",
       "hour                     998.0                       14.90982   \n",
       "expected_total           998.0                     321.527865   \n",
       "\n",
       "                                         min                  25%  \\\n",
       "unit_price                             10.08               32.825   \n",
       "quantity                                 1.0                  3.0   \n",
       "tax_5%                                0.5085             5.864625   \n",
       "total                                10.6785           123.157125   \n",
       "date                     2019-01-01 00:00:00  2019-01-24 00:00:00   \n",
       "cogs                                   10.17             117.2925   \n",
       "gross_margin_percentage             4.761905             4.761905   \n",
       "gross_income                          0.5085             5.864625   \n",
       "rating                                   4.0                  5.5   \n",
       "hour                                    10.0                 12.0   \n",
       "expected_total                       10.6785           123.157125   \n",
       "\n",
       "                                         50%                  75%  \\\n",
       "unit_price                            55.055                77.71   \n",
       "quantity                                 5.0                  8.0   \n",
       "tax_5%                                12.076               22.428   \n",
       "total                                253.596              470.988   \n",
       "date                     2019-02-13 00:00:00  2019-03-08 00:00:00   \n",
       "cogs                                  241.52               448.56   \n",
       "gross_margin_percentage             4.761905             4.761905   \n",
       "gross_income                          12.076               22.428   \n",
       "rating                                   7.0                  8.5   \n",
       "hour                                    15.0                 18.0   \n",
       "expected_total                       253.596              470.988   \n",
       "\n",
       "                                         max         std  \n",
       "unit_price                             99.96   26.449491  \n",
       "quantity                                10.0    2.919429  \n",
       "tax_5%                                 49.26   11.619891  \n",
       "total                                1034.46  244.017711  \n",
       "date                     2019-03-30 00:00:00         NaN  \n",
       "cogs                                   985.2   232.39782  \n",
       "gross_margin_percentage             4.761905         0.0  \n",
       "gross_income                           49.26   11.619891  \n",
       "rating                                  10.0    1.719392  \n",
       "hour                                    20.0    3.189735  \n",
       "expected_total                       1034.46  244.017711  "
      ]
     },
     "execution_count": 24,
     "metadata": {},
     "output_type": "execute_result"
    }
   ],
   "source": [
    "# Hanya menampilkan kolom numerik\n",
    "df.describe().T"
   ]
  },
  {
   "cell_type": "code",
   "execution_count": null,
   "id": "4099a017",
   "metadata": {},
   "outputs": [
    {
     "data": {
      "text/html": [
       "<div>\n",
       "<style scoped>\n",
       "    .dataframe tbody tr th:only-of-type {\n",
       "        vertical-align: middle;\n",
       "    }\n",
       "\n",
       "    .dataframe tbody tr th {\n",
       "        vertical-align: top;\n",
       "    }\n",
       "\n",
       "    .dataframe thead th {\n",
       "        text-align: right;\n",
       "    }\n",
       "</style>\n",
       "<table border=\"1\" class=\"dataframe\">\n",
       "  <thead>\n",
       "    <tr style=\"text-align: right;\">\n",
       "      <th></th>\n",
       "      <th>count</th>\n",
       "      <th>unique</th>\n",
       "      <th>top</th>\n",
       "      <th>freq</th>\n",
       "    </tr>\n",
       "  </thead>\n",
       "  <tbody>\n",
       "    <tr>\n",
       "      <th>invoice_id</th>\n",
       "      <td>998</td>\n",
       "      <td>998</td>\n",
       "      <td>849-09-3807</td>\n",
       "      <td>1</td>\n",
       "    </tr>\n",
       "    <tr>\n",
       "      <th>branch</th>\n",
       "      <td>998</td>\n",
       "      <td>3</td>\n",
       "      <td>A</td>\n",
       "      <td>339</td>\n",
       "    </tr>\n",
       "    <tr>\n",
       "      <th>city</th>\n",
       "      <td>998</td>\n",
       "      <td>3</td>\n",
       "      <td>Yangon</td>\n",
       "      <td>339</td>\n",
       "    </tr>\n",
       "    <tr>\n",
       "      <th>customer_type</th>\n",
       "      <td>998</td>\n",
       "      <td>2</td>\n",
       "      <td>Member</td>\n",
       "      <td>500</td>\n",
       "    </tr>\n",
       "    <tr>\n",
       "      <th>gender</th>\n",
       "      <td>998</td>\n",
       "      <td>2</td>\n",
       "      <td>Female</td>\n",
       "      <td>500</td>\n",
       "    </tr>\n",
       "    <tr>\n",
       "      <th>product_line</th>\n",
       "      <td>998</td>\n",
       "      <td>6</td>\n",
       "      <td>Fashion Accessories</td>\n",
       "      <td>176</td>\n",
       "    </tr>\n",
       "    <tr>\n",
       "      <th>time</th>\n",
       "      <td>998</td>\n",
       "      <td>505</td>\n",
       "      <td>14:42:00</td>\n",
       "      <td>7</td>\n",
       "    </tr>\n",
       "    <tr>\n",
       "      <th>payment</th>\n",
       "      <td>998</td>\n",
       "      <td>3</td>\n",
       "      <td>Ewallet</td>\n",
       "      <td>345</td>\n",
       "    </tr>\n",
       "    <tr>\n",
       "      <th>day_of_week</th>\n",
       "      <td>998</td>\n",
       "      <td>7</td>\n",
       "      <td>Saturday</td>\n",
       "      <td>164</td>\n",
       "    </tr>\n",
       "  </tbody>\n",
       "</table>\n",
       "</div>"
      ],
      "text/plain": [
       "              count unique                  top freq\n",
       "invoice_id      998    998          849-09-3807    1\n",
       "branch          998      3                    A  339\n",
       "city            998      3               Yangon  339\n",
       "customer_type   998      2               Member  500\n",
       "gender          998      2               Female  500\n",
       "product_line    998      6  Fashion Accessories  176\n",
       "time            998    505             14:42:00    7\n",
       "payment         998      3              Ewallet  345\n",
       "day_of_week     998      7             Saturday  164"
      ]
     },
     "execution_count": 25,
     "metadata": {},
     "output_type": "execute_result"
    }
   ],
   "source": [
    "# Hanya menampilkan kolom kategorikal\n",
    "df.describe(include=['object']).T   "
   ]
  },
  {
   "cell_type": "markdown",
   "id": "a800638b",
   "metadata": {},
   "source": [
    "### 1. Berapa total sales per branch?"
   ]
  },
  {
   "cell_type": "markdown",
   "id": "06a1c02c",
   "metadata": {},
   "source": [
    "### Insight\n",
    "Identifikasi cabang dengan kontribusi pendapatan terbesar dan cabang yang perlu difokuskan untuk kenaikan revenue."
   ]
  },
  {
   "cell_type": "code",
   "execution_count": 26,
   "id": "f37a38e7",
   "metadata": {},
   "outputs": [
    {
     "data": {
      "image/png": "[encoded data removed]",
      "text/plain": [
       "<Figure size 800x400 with 1 Axes>"
      ]
     },
     "metadata": {},
     "output_type": "display_data"
    }
   ],
   "source": [
    "# Visualisasi 1: Total Sales per Branch (matplotlib)\n",
    "group = df.groupby('branch')['total'].sum().sort_values(ascending=False)\n",
    "plt.figure(figsize=(8,4))\n",
    "plt.bar(group.index, group.values)\n",
    "plt.title('Total Sales per Branch')\n",
    "plt.xlabel('Branch')\n",
    "plt.ylabel('Total Sales')\n",
    "plt.tight_layout()\n",
    "plt.show()"
   ]
  },
  {
   "cell_type": "markdown",
   "id": "1c513fe7",
   "metadata": {},
   "source": [
    "### 2. Berapa rata-rata rating tiap product line nya?"
   ]
  },
  {
   "cell_type": "markdown",
   "id": "7d2ac98c",
   "metadata": {},
   "source": [
    "### Insight\n",
    "Mengetahui product line mana yang paling disukai pelanggan sehingga dapat dijadikan fokus promosi atau cross-sell."
   ]
  },
  {
   "cell_type": "code",
   "execution_count": 27,
   "id": "3d5774ee",
   "metadata": {},
   "outputs": [
    {
     "data": {
      "image/png": "[encoded data removed]",
      "text/plain": [
       "<Figure size 1000x400 with 1 Axes>"
      ]
     },
     "metadata": {},
     "output_type": "display_data"
    }
   ],
   "source": [
    "# Visualisasi 2: Average Rating per Product Line\n",
    "if 'product_line' in df.columns and 'rating' in df.columns:\n",
    "    grp = df.groupby('product_line')['rating'].mean().sort_values(ascending=False)\n",
    "    plt.figure(figsize=(10,4))\n",
    "    plt.bar(grp.index, grp.values)\n",
    "    plt.title('Average Rating per Product Line')\n",
    "    plt.xlabel('Product Line')\n",
    "    plt.ylabel('Average Rating')\n",
    "    plt.xticks(rotation=30, ha='right')\n",
    "    plt.ylim(0, 10)\n",
    "    plt.tight_layout()\n",
    "    plt.show()\n",
    "else:\n",
    "    print(\"Kolom product_line atau rating tidak ditemukan.\")"
   ]
  },
  {
   "cell_type": "markdown",
   "id": "a8e6acd7",
   "metadata": {},
   "source": [
    "### 3. Bagaimana hubungan antara total transaksi dengan ratingnya?"
   ]
  },
  {
   "cell_type": "markdown",
   "id": "97e9295b",
   "metadata": {},
   "source": [
    "### Insight\n",
    "Menilai apakah transaksi bernilai tinggi cenderung memiliki rating lebih baik/lebih buruk."
   ]
  },
  {
   "cell_type": "code",
   "execution_count": 28,
   "id": "b0fbb517",
   "metadata": {},
   "outputs": [
    {
     "data": {
      "image/png": "[encoded data removed]",
      "text/plain": [
       "<Figure size 600x400 with 1 Axes>"
      ]
     },
     "metadata": {},
     "output_type": "display_data"
    }
   ],
   "source": [
    "# Visualisasi 3: Scatter total vs rating\n",
    "if 'total' in df.columns and 'rating' in df.columns:\n",
    "    plt.figure(figsize=(6,4))\n",
    "    plt.scatter(df['total'], df['rating'], alpha=0.5)\n",
    "    plt.title('Total vs Rating (Scatter)')\n",
    "    plt.xlabel('Total')\n",
    "    plt.ylabel('Rating')\n",
    "    plt.tight_layout()\n",
    "    plt.show()\n",
    "else:\n",
    "    print(\"Kolom total atau rating tidak ditemukan.\")"
   ]
  },
  {
   "cell_type": "markdown",
   "id": "9251e56a",
   "metadata": {},
   "source": [
    "### 4. Bagaimana metode pembayaran per tipe pelanggan?"
   ]
  },
  {
   "cell_type": "markdown",
   "id": "c4ec2cbc",
   "metadata": {},
   "source": [
    "### Insight\n",
    "Memahami preferensi pembayaran setiap segmen (Member vs Normal) untuk strategi promosi/loyalty."
   ]
  },
  {
   "cell_type": "code",
   "execution_count": 29,
   "id": "16036ad7",
   "metadata": {},
   "outputs": [
    {
     "data": {
      "image/png": "[encoded data removed]",
      "text/plain": [
       "<Figure size 800x400 with 1 Axes>"
      ]
     },
     "metadata": {},
     "output_type": "display_data"
    }
   ],
   "source": [
    "# Visualisasi 4: Payment method counts per customer type (grouped bar)\n",
    "if 'payment' in df.columns and 'customer_type' in df.columns:\n",
    "    ct = pd.crosstab(df['customer_type'], df['payment'])\n",
    "    ct.plot(kind='bar', figsize=(8,4))\n",
    "    plt.title('Payment Method Counts per Customer Type')\n",
    "    plt.xlabel('Customer Type')\n",
    "    plt.ylabel('Count')\n",
    "    plt.tight_layout()\n",
    "    plt.show()\n",
    "else:\n",
    "    print(\"Kolom payment atau customer_type tidak ditemukan.\")"
   ]
  },
  {
   "cell_type": "markdown",
   "id": "d9948ed6",
   "metadata": {},
   "source": [
    "### 5. Bagaimana rata-rata dari total, rating, serta gross income nya?"
   ]
  },
  {
   "cell_type": "code",
   "execution_count": 30,
   "id": "f947bbfa",
   "metadata": {},
   "outputs": [
    {
     "name": "stdout",
     "output_type": "stream",
     "text": [
      "--- total ---\n",
      "Mean: 321.52786472945894\n",
      "Median: 253.596\n",
      "Std: 244.01771066912082\n",
      "25%: 123.15712500000001\n",
      "75%: 470.988\n",
      "\n",
      "\n",
      "--- rating ---\n",
      "Mean: 6.971342685370741\n",
      "Median: 7.0\n",
      "Std: 1.719392139329465\n",
      "25%: 5.5\n",
      "75%: 8.5\n",
      "\n",
      "\n",
      "--- gross_income ---\n",
      "Mean: 15.310850701402805\n",
      "Median: 12.076\n",
      "Std: 11.61989098424386\n",
      "25%: 5.864625\n",
      "75%: 22.428\n",
      "\n",
      "\n"
     ]
    },
    {
     "data": {
      "image/png": "[encoded data removed]",
      "text/plain": [
       "<Figure size 600x300 with 1 Axes>"
      ]
     },
     "metadata": {},
     "output_type": "display_data"
    }
   ],
   "source": [
    "# Descriptive stats\n",
    "metrics = ['total','rating','gross_income']\n",
    "for m in metrics:\n",
    "    if m in df.columns:\n",
    "        print(f\"--- {m} ---\")\n",
    "        print(\"Mean:\", df[m].mean())\n",
    "        print(\"Median:\", df[m].median())\n",
    "        print(\"Std:\", df[m].std())\n",
    "        print(\"25%:\", df[m].quantile(0.25))\n",
    "        print(\"75%:\", df[m].quantile(0.75))\n",
    "        print(\"\\n\")\n",
    "\n",
    "# Boxplot for outlier analysis (total)\n",
    "if 'total' in df.columns:\n",
    "    plt.figure(figsize=(6,3))\n",
    "    plt.boxplot(df['total'].dropna(), vert=False)\n",
    "    plt.title('Boxplot of Total (Outlier Detection)')\n",
    "    plt.xlabel('Total')\n",
    "    plt.tight_layout()\n",
    "    plt.show()"
   ]
  },
  {
   "cell_type": "markdown",
   "id": "db5b1472",
   "metadata": {},
   "source": [
    "### 6. Apakah rata-rata total berbeda signifikan antara dua cabang (mis. A vs B)."
   ]
  },
  {
   "cell_type": "markdown",
   "id": "3f3baf77",
   "metadata": {},
   "source": [
    "**Contoh uji:** Two-sample t-test (Welch) untuk menguji apakah rata-rata `total` berbeda signifikan antara dua cabang (mis. A vs B).\n",
    "- H0: rata-rata total cabang A = rata-rata total cabang B\n",
    "- H1: berbeda\n",
    "- Gunakan alpha = 0.05"
   ]
  },
  {
   "cell_type": "code",
   "execution_count": 34,
   "id": "fe4ea8d1",
   "metadata": {},
   "outputs": [
    {
     "name": "stdout",
     "output_type": "stream",
     "text": [
      "Comparing branches: A vs B\n",
      "n1=340, n2=332\n",
      "t-statistic = -0.4109, p-value = 0.681307\n",
      "Hasil: p ≥ 0.05 → Gagal tolak H₀ (tidak ada bukti perbedaan).\n"
     ]
    }
   ],
   "source": [
    "if 'Branch' in df.columns and 'Total' in df.columns:\n",
    "    branches = sorted(df['Branch'].unique())\n",
    "    if len(branches) >= 2:\n",
    "        b1, b2 = branches[0], branches[1]\n",
    "        g1 = df[df['Branch'] == b1]['Total'].dropna()\n",
    "        g2 = df[df['Branch'] == b2]['Total'].dropna()\n",
    "        tstat, pval = stats.ttest_ind(g1, g2, equal_var=False)\n",
    "        print(f\"Comparing branches: {b1} vs {b2}\")\n",
    "        print(f\"n1={len(g1)}, n2={len(g2)}\")\n",
    "        print(f\"t-statistic = {tstat:.4f}, p-value = {pval:.6f}\")\n",
    "        if pval < 0.05:\n",
    "            print(\"Hasil: p < 0.05 → Tolak H₀ (ada perbedaan signifikan).\")\n",
    "        else:\n",
    "            print(\"Hasil: p ≥ 0.05 → Gagal tolak H₀ (tidak ada bukti perbedaan).\")"
   ]
  },
  {
   "cell_type": "markdown",
   "id": "2cc55f3a",
   "metadata": {},
   "source": [
    "# Conclusion\n",
    "- Pada uji inferensial menunjukkan perbedaan signifikan antar cabang, gunakan hasil tersebut untuk menargetkan cabang yang performanya rendah.\n",
    "- Rekomendasi tindakan:\n",
    "  - Fokus promosi pada top product lines per cabang.\n",
    "  - Training layanan di jam sibuk yang teridentifikasi.\n",
    "  - Monitor KPI (monthly) untuk mengevaluasi pencapaian +10% revenue & rating ≥8.0."
   ]
  }
 ],
 "metadata": {
  "kernelspec": {
   "display_name": "h8_env",
   "language": "python",
   "name": "python3"
  },
  "language_info": {
   "codemirror_mode": {
    "name": "ipython",
    "version": 3
   },
   "file_extension": ".py",
   "mimetype": "text/x-python",
   "name": "python",
   "nbconvert_exporter": "python",
   "pygments_lexer": "ipython3",
   "version": "3.9.23"
  }
 },
 "nbformat": 4,
 "nbformat_minor": 5
}
